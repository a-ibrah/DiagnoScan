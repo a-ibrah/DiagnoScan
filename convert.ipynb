{
 "cells": [
  {
   "cell_type": "code",
   "execution_count": 4,
   "metadata": {},
   "outputs": [
    {
     "name": "stdout",
     "output_type": "stream",
     "text": [
      "Saved resized image to: /Users/Ali2/Downloads/gdc_download_20250111_021455.793131/4fe08445-76f1-4d5b-b1ac-dc46bd17991d/5423_aca_1200x1600.jpg\n"
     ]
    },
    {
     "data": {
      "text/plain": [
       "'/Users/Ali2/Downloads/gdc_download_20250111_021455.793131/4fe08445-76f1-4d5b-b1ac-dc46bd17991d/5423_aca_1200x1600.jpg'"
      ]
     },
     "execution_count": 4,
     "metadata": {},
     "output_type": "execute_result"
    }
   ],
   "source": [
    "import os\n",
    "from openslide import OpenSlide\n",
    "from PIL import Image\n",
    "\n",
    "def convert_svs_to_image(svs_path, output_width=1200, output_height=1600):\n",
    "    \"\"\"\n",
    "    Converts an SVS file to a resized image and saves it in the same folder.\n",
    "\n",
    "    Parameters:\n",
    "    - svs_path (str): Path to the SVS file.\n",
    "    - output_width (int): Desired width of the output image.\n",
    "    - output_height (int): Desired height of the output image.\n",
    "\n",
    "    Returns:\n",
    "    - output_path (str): Path to the saved image file.\n",
    "    \"\"\"\n",
    "    # Check if the input file exists and is an SVS file\n",
    "    if not os.path.isfile(svs_path):\n",
    "        raise FileNotFoundError(f\"File not found: {svs_path}\")\n",
    "    if not svs_path.lower().endswith(\".svs\"):\n",
    "        raise ValueError(f\"Input file is not an SVS file: {svs_path}\")\n",
    "\n",
    "    # Open the SVS file using OpenSlide\n",
    "    slide = OpenSlide(svs_path)\n",
    "\n",
    "    # Get the largest level of the slide (highest resolution)\n",
    "    level = 0\n",
    "    level_dimensions = slide.level_dimensions[level]  # (width, height)\n",
    "\n",
    "    # Read the entire slide image at the chosen level\n",
    "    whole_slide_image = slide.read_region((0, 0), level, level_dimensions)\n",
    "\n",
    "    # Convert to RGB (removing alpha channel if present)\n",
    "    whole_slide_image = whole_slide_image.convert(\"RGB\")\n",
    "\n",
    "    # Resize the image to the desired dimensions (1200x1600)\n",
    "    resized_image = whole_slide_image.resize((output_width, output_height), Image.Resampling.LANCZOS)\n",
    "\n",
    "    # Define the output path\n",
    "    output_path = os.path.splitext(svs_path)[0] + f\"_{output_width}x{output_height}.jpg\"\n",
    "\n",
    "    # Save the resized image\n",
    "    resized_image.save(output_path, \"JPEG\")\n",
    "    print(f\"Saved resized image to: {output_path}\")\n",
    "\n",
    "    # Close the OpenSlide file\n",
    "    slide.close()\n",
    "\n",
    "    return output_path\n",
    "\n",
    "# Example usage\n",
    "svs_path = \"/Users/Ali2/Downloads/gdc_download_20250111_021455.793131/4fe08445-76f1-4d5b-b1ac-dc46bd17991d/5423_aca.svs\"\n",
    "convert_svs_to_image(svs_path)"
   ]
  },
  {
   "cell_type": "code",
   "execution_count": 5,
   "metadata": {},
   "outputs": [
    {
     "name": "stdout",
     "output_type": "stream",
     "text": [
      "Saved resized image to: /Users/Ali2/Downloads/gdc_download_20250111_021455.793131/22904f9d-0788-463c-9961-02629cf9a85f/5428_aca_1200x1600.jpg\n",
      "Saved resized image to: /Users/Ali2/Downloads/gdc_download_20250111_021455.793131/06f120a8-46a3-4e9b-b15a-c33493ba4164/5429_aca_1200x1600.jpg\n"
     ]
    },
    {
     "data": {
      "text/plain": [
       "'/Users/Ali2/Downloads/gdc_download_20250111_021455.793131/06f120a8-46a3-4e9b-b15a-c33493ba4164/5429_aca_1200x1600.jpg'"
      ]
     },
     "execution_count": 5,
     "metadata": {},
     "output_type": "execute_result"
    }
   ],
   "source": [
    "svs_path = \"/Users/Ali2/Downloads/gdc_download_20250111_021455.793131/22904f9d-0788-463c-9961-02629cf9a85f/5428_aca.svs\"\n",
    "convert_svs_to_image(svs_path)\n",
    "svs_path = \"/Users/Ali2/Downloads/gdc_download_20250111_021455.793131/06f120a8-46a3-4e9b-b15a-c33493ba4164/5429_aca.svs\"\n",
    "convert_svs_to_image(svs_path)"
   ]
  }
 ],
 "metadata": {
  "kernelspec": {
   "display_name": "venv",
   "language": "python",
   "name": "python3"
  },
  "language_info": {
   "codemirror_mode": {
    "name": "ipython",
    "version": 3
   },
   "file_extension": ".py",
   "mimetype": "text/x-python",
   "name": "python",
   "nbconvert_exporter": "python",
   "pygments_lexer": "ipython3",
   "version": "3.11.11"
  }
 },
 "nbformat": 4,
 "nbformat_minor": 2
}
